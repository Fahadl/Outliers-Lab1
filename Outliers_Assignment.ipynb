{
 "cells": [
  {
   "cell_type": "markdown",
   "id": "timely-involvement",
   "metadata": {},
   "source": [
    "### Import your librares"
   ]
  },
  {
   "cell_type": "code",
   "execution_count": null,
   "id": "dramatic-briefs",
   "metadata": {},
   "outputs": [],
   "source": [
    "import numpy as np \n",
    "import pandas as pd \n",
    "import matplotlib as plt \n",
    "import seaborn as sns"
   ]
  },
  {
   "cell_type": "markdown",
   "id": "australian-softball",
   "metadata": {},
   "source": [
    "### Load your dataset"
   ]
  },
  {
   "cell_type": "code",
   "execution_count": null,
   "id": "average-recipient",
   "metadata": {},
   "outputs": [],
   "source": [
    "df = pd.read_csv(\"seattle_weather.csv\")\n",
    "df"
   ]
  },
  {
   "cell_type": "markdown",
   "id": "9f68b54e",
   "metadata": {},
   "source": [
    "### Handle missing data in PRCP and RAIN columns"
   ]
  },
  {
   "cell_type": "code",
   "execution_count": null,
   "id": "2cfb1f50",
   "metadata": {},
   "outputs": [],
   "source": [
    "df.hist()"
   ]
  },
  {
   "cell_type": "code",
   "execution_count": null,
   "id": "30f3e618",
   "metadata": {},
   "outputs": [],
   "source": [
    "df.dtypes"
   ]
  },
  {
   "cell_type": "code",
   "execution_count": null,
   "id": "6591de77",
   "metadata": {},
   "outputs": [],
   "source": [
    "df[df['PRCP'].isnull()]"
   ]
  },
  {
   "cell_type": "code",
   "execution_count": null,
   "id": "e509159f",
   "metadata": {
    "scrolled": true
   },
   "outputs": [],
   "source": [
    "df.var()"
   ]
  },
  {
   "cell_type": "code",
   "execution_count": null,
   "id": "0801bd07",
   "metadata": {},
   "outputs": [],
   "source": [
    "# filled with False and the variance cahnge is not noticable \n",
    "df['RAIN'].fillna(False, inplace=True) \n",
    "\n",
    "# filled with 0.0 float and the variance cahnge is not noticable \n",
    "df['PRCP'].fillna(0.0,inplace=True)"
   ]
  },
  {
   "cell_type": "code",
   "execution_count": null,
   "id": "078969bf",
   "metadata": {},
   "outputs": [],
   "source": [
    "df.var()"
   ]
  },
  {
   "cell_type": "markdown",
   "id": "monthly-meter",
   "metadata": {},
   "source": [
    "### Repeat the following steps for each column within outliers\n",
    "\n",
    "* Visualize the outliers\n",
    "* Detect if your data set contains any outliers\n",
    "* Identify lower & higher limit of outliers\n",
    "* Drop all outliers\n",
    "* Visualize the column after processing\n"
   ]
  },
  {
   "cell_type": "code",
   "execution_count": null,
   "id": "f09c98f7",
   "metadata": {},
   "outputs": [],
   "source": [
    "df.describe()"
   ]
  },
  {
   "cell_type": "code",
   "execution_count": null,
   "id": "1967e7b0",
   "metadata": {},
   "outputs": [],
   "source": [
    "sns.boxplot(data=df)"
   ]
  },
  {
   "cell_type": "markdown",
   "id": "93cff393",
   "metadata": {},
   "source": [
    "# Handling TMAX column "
   ]
  },
  {
   "cell_type": "code",
   "execution_count": null,
   "id": "26563ded",
   "metadata": {},
   "outputs": [],
   "source": [
    "Q1 = np.percentile(df['TMAX'], 25, interpolation = 'midpoint')\n",
    "Q3 = np.percentile(df['TMAX'], 75, interpolation = 'midpoint')\n",
    "IQR = Q3 - Q1\n",
    "               \n",
    "print('lower bound outliers ', Q1 - 1.5*(IQR))\n",
    "print('higher bound outliers', Q3 + 1.5*(IQR))"
   ]
  },
  {
   "cell_type": "code",
   "execution_count": null,
   "id": "82a73b3f",
   "metadata": {},
   "outputs": [],
   "source": [
    "df = df.drop(df[(df['TMAX'] > 97.5) | (df['TMAX'] < 21.5)].index)"
   ]
  },
  {
   "cell_type": "markdown",
   "id": "c2176759",
   "metadata": {},
   "source": [
    "# Handling PRCP"
   ]
  },
  {
   "cell_type": "code",
   "execution_count": null,
   "id": "c2ce5402",
   "metadata": {},
   "outputs": [],
   "source": [
    "Q1 = np.percentile(df['PRCP'], 25, interpolation = 'midpoint')\n",
    "Q3 = np.percentile(df['PRCP'], 75, interpolation = 'midpoint')\n",
    "IQR = Q3 - Q1\n",
    "               \n",
    "print('lower bound outliers ', Q1 - 1.5*(IQR))\n",
    "print('higher bound outliers', Q3 + 1.5*(IQR))"
   ]
  },
  {
   "cell_type": "code",
   "execution_count": null,
   "id": "520539aa",
   "metadata": {},
   "outputs": [],
   "source": [
    "df = df.drop(df[(df['PRCP'] > 0.25) | (df['PRCP'] < -0.15000000000000002)].index)"
   ]
  },
  {
   "cell_type": "markdown",
   "id": "e2c70148",
   "metadata": {},
   "source": [
    "# Handling TMIN "
   ]
  },
  {
   "cell_type": "code",
   "execution_count": null,
   "id": "professional-error",
   "metadata": {},
   "outputs": [],
   "source": [
    "Q1 = np.percentile(df['TMIN'], 25, interpolation = 'midpoint')\n",
    "Q3 = np.percentile(df['TMIN'], 75, interpolation = 'midpoint')\n",
    "IQR = Q3 - Q1\n",
    "               \n",
    "print('lower bound outliers ', Q1 - 1.5*(IQR))\n",
    "print('higher bound outliers', Q3 + 1.5*(IQR))"
   ]
  },
  {
   "cell_type": "code",
   "execution_count": null,
   "id": "5aebb87f",
   "metadata": {},
   "outputs": [],
   "source": [
    "df = df.drop(df[(df['TMIN'] > 73.0) | (df['TMIN'] < 17.0)].index)"
   ]
  },
  {
   "cell_type": "markdown",
   "id": "56596f44",
   "metadata": {},
   "source": [
    "# Display after removing outliers"
   ]
  },
  {
   "cell_type": "code",
   "execution_count": null,
   "id": "b59b98cc",
   "metadata": {},
   "outputs": [],
   "source": [
    "sns.boxplot(data=df)"
   ]
  },
  {
   "cell_type": "code",
   "execution_count": null,
   "id": "8caa3d7a",
   "metadata": {},
   "outputs": [],
   "source": [
    "df.var()"
   ]
  },
  {
   "cell_type": "code",
   "execution_count": null,
   "id": "daily-crime",
   "metadata": {},
   "outputs": [],
   "source": [
    "df.describe()"
   ]
  }
 ],
 "metadata": {
  "kernelspec": {
   "display_name": "Python 3 (ipykernel)",
   "language": "python",
   "name": "python3"
  },
  "language_info": {
   "codemirror_mode": {
    "name": "ipython",
    "version": 3
   },
   "file_extension": ".py",
   "mimetype": "text/x-python",
   "name": "python",
   "nbconvert_exporter": "python",
   "pygments_lexer": "ipython3",
   "version": "3.9.13"
  }
 },
 "nbformat": 4,
 "nbformat_minor": 5
}
